{
 "cells": [
  {
   "cell_type": "code",
   "execution_count": 1,
   "metadata": {},
   "outputs": [],
   "source": [
    "import torch\n",
    "\n",
    "from melanoma_classification.model import get_dermmel_classifier_v1\n",
    "from melanoma_classification.utils import (\n",
    "    get_device,\n",
    "    production_transform,\n",
    "    train_transform,\n",
    ")\n",
    "from pathlib import Path\n",
    "from training.trainer import train\n",
    "from utils.dermmel import DermMel"
   ]
  },
  {
   "cell_type": "code",
   "execution_count": null,
   "metadata": {},
   "outputs": [],
   "source": [
    "device = get_device()"
   ]
  },
  {
   "cell_type": "markdown",
   "metadata": {},
   "source": [
    "## Create Vision Transformer (ViT)\n"
   ]
  },
  {
   "cell_type": "code",
   "execution_count": null,
   "metadata": {},
   "outputs": [],
   "source": [
    "vit = get_dermmel_classifier_v1()\n",
    "vit.load_pretrained_weights(\"deit_base_patch16_224\")"
   ]
  },
  {
   "cell_type": "markdown",
   "metadata": {},
   "source": [
    "## Prepare data\n"
   ]
  },
  {
   "cell_type": "code",
   "execution_count": null,
   "metadata": {},
   "outputs": [],
   "source": [
    "train_dataset = DermMel(\"../data\", split=\"train_sep\", transform=train_transform())\n",
    "train_dataloader = torch.utils.data.DataLoader(\n",
    "    train_dataset, batch_size=8, shuffle=True, num_workers=0\n",
    ")\n",
    "\n",
    "valid_dataset = DermMel(\"../data\", split=\"valid\", transform=production_transform())\n",
    "valid_dataloader = torch.utils.data.DataLoader(\n",
    "    valid_dataset, batch_size=8, shuffle=True, num_workers=0\n",
    ")\n",
    "\n",
    "train_dataset.visualize_image(-1)"
   ]
  },
  {
   "cell_type": "markdown",
   "metadata": {},
   "source": [
    "## Training\n"
   ]
  },
  {
   "cell_type": "code",
   "execution_count": 6,
   "metadata": {},
   "outputs": [],
   "source": [
    "criterion = torch.nn.CrossEntropyLoss()\n",
    "optimizer = torch.optim.AdamW(\n",
    "    [\n",
    "        {\"params\": vit.cls_token, \"lr\": 1e-7},\n",
    "        {\"params\": vit.pos_embed, \"lr\": 1e-7},\n",
    "        {\"params\": vit.patch_embedding.parameters(), \"lr\": 1e-6},\n",
    "        {\"params\": vit.transformer_layers.parameters(), \"lr\": 1e-5},\n",
    "        {\"params\": vit.norm.parameters(), \"lr\": 1e-6},\n",
    "        {\"params\": vit.classifier.parameters(), \"lr\": 1e-4},\n",
    "    ]\n",
    ")\n",
    "scheduler = torch.optim.lr_scheduler.ReduceLROnPlateau(\n",
    "    optimizer, mode=\"min\", patience=3, factor=0.1\n",
    ")"
   ]
  },
  {
   "cell_type": "code",
   "execution_count": null,
   "metadata": {},
   "outputs": [],
   "source": [
    "train(\n",
    "    model=vit,\n",
    "    train_loader=train_dataloader,\n",
    "    val_loader=valid_dataloader,\n",
    "    criterion=criterion,\n",
    "    optimizer=optimizer,\n",
    "    scheduler=scheduler,\n",
    "    num_epochs=20,\n",
    "    freezed_epochs=5,\n",
    "    device=device,\n",
    "    # checkpoint_model_file=\"checkpoint_epoch_6.pth\",\n",
    "    checkpoint_path=Path(\"checkpoints/dermmel_tmp\"),\n",
    "    save_every_n_epochs=1,\n",
    ")"
   ]
  },
  {
   "cell_type": "code",
   "execution_count": null,
   "metadata": {},
   "outputs": [],
   "source": []
  }
 ],
 "metadata": {
  "kernelspec": {
   "display_name": "melanoma",
   "language": "python",
   "name": "python3"
  },
  "language_info": {
   "codemirror_mode": {
    "name": "ipython",
    "version": 3
   },
   "file_extension": ".py",
   "mimetype": "text/x-python",
   "name": "python",
   "nbconvert_exporter": "python",
   "pygments_lexer": "ipython3",
   "version": "3.11.9"
  }
 },
 "nbformat": 4,
 "nbformat_minor": 2
}
